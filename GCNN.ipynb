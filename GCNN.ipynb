{
 "cells": [
  {
   "cell_type": "code",
   "execution_count": 1,
   "metadata": {},
   "outputs": [],
   "source": [
    "import os\n",
    "import torch\n",
    "import torch.nn as nn\n",
    "import torch.optim as optim\n",
    "import torch.nn.functional as F\n",
    "from torchvision import datasets, transforms\n",
    "from torch.utils.data import DataLoader\n",
    "import matplotlib.pyplot as plt\n",
    "import numpy as np\n",
    "import random\n",
    "import math\n",
    "import torchvision\n",
    "from PIL import Image\n"
   ]
  },
  {
   "attachments": {},
   "cell_type": "markdown",
   "metadata": {},
   "source": [
    "# Group Equivariance Tutorial for Convolutional Neural Networks\n",
    "\n",
    "This tutorial demonstrates how to build a group-equivariant convolutional neural network (GCNN) and compares its performance with a simple CNN on the MNIST dataset. GCNNs are a generalization of traditional convolutional neural networks (CNNs) that enforce equivariance to symmetry groups, leading to better performance and data efficiency. \n",
    "\n",
    "## Outline\n",
    "1. **[Group Theory Background](#group-theory-background)**\n",
    "    - Implement the Group C4\n",
    "    - Implement the group action on functions \n",
    "    - First rotation equivariant convolution layer \n",
    "1. **[Build a Simple CNN](#build-a-simple-cnn)**\n",
    "    - Define the SimpleCNN architecture\n",
    "    - Implement functions for training and evaluating the model \n",
    "    - Prepare the MNIST dataset for training and testing\n",
    "4. **[Train and Test SimpleCNN](#train-and-test-simplecnn)**\n",
    "    - Train SimpleCNN on the MNIST dataset\n",
    "    - Evaluate the model on the testing set\n",
    "5. **[Demonstrate Equivariance](#demonstrate-translation-equivariance)**\n",
    "    - Apply shifts to images and test the trained model's predictions\n",
    "    - Rotate images and observe the trained model's performance\n",
    "7. **[Group Equivariant CNN (GCNN)](#introduce-group-equivariant-cnn-gcnn)**\n",
    "    - Define the GCNN architecture\n",
    "    - Implement group-equivariant layers and operations\n",
    "8. **[Compare GCNN Performance with Simple CNN](#compare-g-cnn-performance-with-simple-cnn)**\n",
    "    - Train and evaluate the GCNN model on the MNIST dataset\n",
    "    - Compare the performance of GCNN and SimpleCNN\n",
    "\n"
   ]
  },
  {
   "attachments": {},
   "cell_type": "markdown",
   "metadata": {},
   "source": [
    "# Group Theory Background"
   ]
  },
  {
   "attachments": {},
   "cell_type": "markdown",
   "metadata": {},
   "source": [
    "### Implement the Group $C_4$\n",
    "\n",
    "Consider the group $G$ of rotations by multiples of $\\frac{\\pi}{2}$.\n",
    "This group contains $4$ elements and is called the cyclic group of order $4$; we usually indicate it with $G=C_4$:\n",
    "\n",
    "\n",
    "- The set of group elements of $C_4$ is given by $G:=\\left\\{e, g, g^2, g^3\\right\\}$. We can parameterise these group elements using rotation angles $\\theta$, i.e. $e=$ $0, g=\\frac{1}{2} \\pi, g^2=\\pi, \\ldots$\n",
    "- The group product is then given by $g \\cdot g^{\\prime}:=\\theta+\\theta^{\\prime} \\bmod 2 \\pi$.\n",
    "- The inverse is given by: $g^{-1}=-\\theta \\bmod 2 \\pi$.\n",
    "- The group $C_4$ has an action on the euclidean plane in 2 dimensions $\\mathbb{R}^2$ given by a rotation matrix;\n",
    "$$\n",
    "R_\\theta:\\left[\\begin{array}{cc}\n",
    "\\cos (\\theta) & -\\sin (\\theta) \\\\\n",
    "\\sin (\\theta) & \\cos (\\theta)\n",
    "\\end{array}\\right]\n",
    "$$\n",
    "\n",
    "Note that we can identify the elements of $C_4$ with the integers *modulo* $4$\n",
    "$$\n",
    "  C_4 = \\{R_{0}, R_{\\frac{\\pi}{2}}, R_{\\pi}, R_{3\\frac{\\pi}{2}} \\} = \\{ R_{r \\frac{\\pi}{2}} \\ |\\ r = 0, 1, 2, 3\\}\n",
    "$$\n",
    "$$\n",
    "  R_{r \\frac{\\pi}{2}} \\cdot R_{s \\frac{\\pi}{2}} = R_{(r + s \\mod 4) \\frac{\\pi}{2}}\n",
    "$$"
   ]
  },
  {
   "cell_type": "code",
   "execution_count": 2,
   "metadata": {},
   "outputs": [],
   "source": [
    "class C4:\n",
    "  \n",
    "  @staticmethod\n",
    "  def _check_valid_input(r: int) -> None:\n",
    "      if not isinstance(r, int) or r < 0 or r > 3:\n",
    "          raise ValueError(\"Input must be an integer between 0 and 3, inclusive.\")\n",
    "\n",
    "\n",
    "  @staticmethod\n",
    "  def product(r: int, s: int) -> int:\n",
    "    # Implements the *group law* of the group C_4.\n",
    "    # The input `r` and `s` must be integers in {0, 1, 2, 3} and represent two elements of the group.\n",
    "    # The method should return the integer representing the product of the two input elements.\n",
    "    C4._check_valid_input(r)\n",
    "    C4._check_valid_input(s)\n",
    "    return (r + s) % 4\n",
    "\n",
    "  \n",
    "  @staticmethod\n",
    "  def inverse(r: int) -> int:\n",
    "    # Implements the *inverse* operation of the group C_4.\n",
    "    # The input `r` must be an integer in {0, 1, 2, 3} and represents an element of the group.\n",
    "   C4._check_valid_input(r)\n",
    "   return (-r) % 4\n"
   ]
  },
  {
   "cell_type": "markdown",
   "metadata": {},
   "source": [
    "The product method takes two input integers r and s, checks if they are valid elements of the group (i.e., integers in the range 0 to 3, inclusive), and then calculates the product of the two elements according to the group operation. In this case, the group operation is modular addition modulo 4, which is (r + s) % 4.\n",
    "\n",
    "The inverse method calculates the inverse of an element of the group. The inverse of an element r is an element s such that their product, according to the group operation, equals the identity element of the group (which, in the case of C4, is 0). For C4, the inverse of r can be computed as the modular negation of r modulo 4, which is (-r) % 4"
   ]
  },
  {
   "cell_type": "code",
   "execution_count": 3,
   "metadata": {},
   "outputs": [],
   "source": [
    "# Some test cases to check if your implementation is working\n",
    "assert C4.product(1, 3) == 0 #90 + 270 = 360 (identity)\n",
    "assert C4.product(0, 0) == 0 #0 + 0 = 0 (identity)\n",
    "assert C4.product(2, 3) == 1 \n",
    "assert C4.inverse(0) == 0\n",
    "assert C4.inverse(1) == 3 #this is the same as the first assertion "
   ]
  },
  {
   "attachments": {},
   "cell_type": "markdown",
   "metadata": {},
   "source": [
    "### Implement the group action on functions "
   ]
  },
  {
   "attachments": {},
   "cell_type": "markdown",
   "metadata": {},
   "source": [
    "\n",
    "\n",
    "Let's see an example.\n",
    "Consider the group $G=C_4$ of planar rotations by multiples of $\\frac{\\pi}{2}$.\n",
    "Let $X$ be the set of all $33 \\times 33$ gray-scale images.\n",
    "An image $x \\in X$ is interpreted as a function $x: \\mathbf{p} \\mapsto x[\\mathbf{p}] \\in \\mathbb{R}$ which maps each pixel (identified by its coordinates $\\mathbf{p} = (h,w)$) to a real number.\n",
    "\n",
    "An element $g = R_{r \\frac{\\pi}{2}} \\in G$ transforms an image $x \\in X$ into the image $g.x \\in X$ through a counter-clockwise rotation by $r \\frac{\\pi}{2}$ radians.\n",
    "The rotated image $g.x$ is defined on each pixel $\\mathbf{p}$ as:\n",
    "$$\n",
    " [g.x](\\mathbf{p}) := x(g^{-1}.\\mathbf{p})\n",
    "$$\n",
    "where $g^{-1}.\\mathbf{p}$ is the pixel in the original image $x$ which is moved to the position $\\mathbf{p}$ in the new image $g.x$.\n",
    "\n"
   ]
  },
  {
   "cell_type": "code",
   "execution_count": 3,
   "metadata": {},
   "outputs": [],
   "source": [
    "def rotate(x: torch.Tensor, r: int) -> torch.Tensor:\n",
    "  # Method which implements the action of the group element `g` indexed by `r` on the input image `x`.\n",
    "  # The method returns the image `g.x`\n",
    "  \n",
    "  return x.rot90(r, dims=(-2, -1))"
   ]
  },
  {
   "cell_type": "code",
   "execution_count": 4,
   "metadata": {},
   "outputs": [
    {
     "data": {
      "image/png": "[encoded data removed]",
      "text/plain": [
       "<Figure size 640x480 with 1 Axes>"
      ]
     },
     "metadata": {},
     "output_type": "display_data"
    },
    {
     "data": {
      "image/png": "[encoded data removed]",
      "text/plain": [
       "<Figure size 640x480 with 1 Axes>"
      ]
     },
     "metadata": {},
     "output_type": "display_data"
    }
   ],
   "source": [
    "x = torch.randn(1, 1, 33, 33)**2\n",
    "\n",
    "r = 1\n",
    "gx = rotate(x, r)\n",
    "\n",
    "plt.imshow(x[0, 0].numpy())\n",
    "plt.title('Original Image $x$')\n",
    "plt.show()\n",
    "\n",
    "plt.imshow(gx[0, 0].numpy())\n",
    "plt.title('Rotated Image $g.x$')\n",
    "plt.show()"
   ]
  },
  {
   "attachments": {},
   "cell_type": "markdown",
   "metadata": {},
   "source": [
    "### First rotation equivariant convolution layer\n",
    "\n",
    "Let's try now to build a rotation equivariant convolution layer.\n",
    "An equivariant layer is a function $\\psi: X \\to Y$ from an input $G$-space $X$ to an output $G$-space $Y$.\n",
    "We assume the input space is the space of images we defined before but we still need to choose an output space $Y$.\n",
    "As a first example, we choose $Y = X$, i.e. the output is still a space of grayscale images.\n",
    "\n",
    "Our equivariant layer will be a convolution with a $3 \\times 3$ filter.\n",
    "Note that the use of convolution guarantees the translation equivariance.\n",
    "$$\n",
    "g.\\psi(x) = \\psi(g.x)\n",
    "$$"
   ]
  },
  {
   "cell_type": "code",
   "execution_count": 6,
   "metadata": {},
   "outputs": [
    {
     "data": {
      "image/png": "[encoded data removed]",
      "text/plain": [
       "<Figure size 640x480 with 1 Axes>"
      ]
     },
     "metadata": {},
     "output_type": "display_data"
    },
    {
     "data": {
      "image/png": "[encoded data removed]",
      "text/plain": [
       "<Figure size 640x480 with 1 Axes>"
      ]
     },
     "metadata": {},
     "output_type": "display_data"
    },
    {
     "data": {
      "image/png": "[encoded data removed]",
      "text/plain": [
       "<Figure size 640x480 with 1 Axes>"
      ]
     },
     "metadata": {},
     "output_type": "display_data"
    }
   ],
   "source": [
    "filter3x3 = torch.randn(1, 1, 3, 3)\n",
    "\n",
    "plt.imshow(filter3x3[0, 0].numpy())\n",
    "plt.title('Filter')\n",
    "plt.show()\n",
    "\n",
    "\n",
    "psi_x = torch.conv2d(x, filter3x3, bias=None, padding=1)\n",
    "psi_gx = torch.conv2d(gx, filter3x3, bias=None, padding=1)\n",
    "\n",
    "g_psi_x = rotate(psi_x, r)\n",
    "\n",
    "plt.imshow(g_psi_x[0, 0].numpy())\n",
    "plt.title('$g.\\psi(x)$')\n",
    "plt.show()\n",
    "\n",
    "plt.imshow(psi_gx[0, 0].numpy())\n",
    "plt.title('$\\psi(g.x)$')\n",
    "plt.show()"
   ]
  },
  {
   "attachments": {},
   "cell_type": "markdown",
   "metadata": {},
   "source": [
    "The two images do not look the same\n",
    "\n",
    "To ensure that both outputs are the same, we can use an isotropic filter:"
   ]
  },
  {
   "cell_type": "code",
   "execution_count": 7,
   "metadata": {},
   "outputs": [
    {
     "data": {
      "image/png": "[encoded data removed]",
      "text/plain": [
       "<Figure size 640x480 with 1 Axes>"
      ]
     },
     "metadata": {},
     "output_type": "display_data"
    },
    {
     "data": {
      "image/png": "[encoded data removed]",
      "text/plain": [
       "<Figure size 640x480 with 1 Axes>"
      ]
     },
     "metadata": {},
     "output_type": "display_data"
    },
    {
     "data": {
      "image/png": "[encoded data removed]",
      "text/plain": [
       "<Figure size 640x480 with 1 Axes>"
      ]
     },
     "metadata": {},
     "output_type": "display_data"
    }
   ],
   "source": [
    "filter3x3 = torch.empty((1, 1, 3, 3))\n",
    "# fill the central pixel\n",
    "filter3x3[0, 0, 1, 1] = np.random.randn()\n",
    "# fill the ring of radius 1 around it with a unique value\n",
    "mask = torch.ones(3, 3, dtype=torch.bool)\n",
    "mask[1, 1] = 0\n",
    "filter3x3[0, 0, mask] = np.random.randn()\n",
    "\n",
    "plt.imshow(filter3x3[0, 0].numpy())\n",
    "plt.title('Filter')\n",
    "plt.show()\n",
    "\n",
    "\n",
    "psi_x = torch.conv2d(x, filter3x3, bias=None, padding=1)\n",
    "psi_gx = torch.conv2d(gx, filter3x3, bias=None, padding=1)\n",
    "\n",
    "g_psi_x = rotate(psi_x, r)\n",
    "\n",
    "plt.imshow(g_psi_x[0, 0].numpy())\n",
    "plt.title('$g.\\psi(x)$')\n",
    "plt.show()\n",
    "\n",
    "plt.imshow(psi_gx[0, 0].numpy())\n",
    "plt.title('$\\psi(g.x)$')\n",
    "plt.show()\n"
   ]
  },
  {
   "attachments": {},
   "cell_type": "markdown",
   "metadata": {},
   "source": [
    "With an isotropic filter, one may rotate the image and then perform a convolution or perform a convolution and then rotate the image, i.e., rotational equivariance "
   ]
  },
  {
   "attachments": {},
   "cell_type": "markdown",
   "metadata": {},
   "source": [
    "# Build a Simple CNN\n",
    "Here's a simple architecture for the MNIST dataset:\n",
    "\n",
    "This architecture takes an input image with one channel (grayscale) and applies a series of convolutional, activation, and pooling layers to extract features from the image. The output of the last convolutional layer is flattened into a 1D tensor and fed into a fully connected layer that produces a probability distribution over the 10 possible classes."
   ]
  },
  {
   "cell_type": "code",
   "execution_count": 8,
   "metadata": {},
   "outputs": [],
   "source": [
    "class SimpleCNN(nn.Module):\n",
    "    def __init__(self):\n",
    "        super(SimpleCNN, self).__init__()\n",
    "        \n",
    "        self.conv1 = nn.Conv2d(in_channels=1, out_channels=32, kernel_size=3, stride=1, padding=1)\n",
    "        self.conv2 = nn.Conv2d(in_channels=32, out_channels=32, kernel_size=3, stride=1, padding=1)\n",
    "        self.conv3 = nn.Conv2d(in_channels=32, out_channels=32, kernel_size=3, stride=1, padding=1)\n",
    "        self.conv4 = nn.Conv2d(in_channels=32, out_channels=32, kernel_size=3, stride=1, padding=1)\n",
    "        self.pool = nn.MaxPool2d(kernel_size=2, stride=2)\n",
    "        self.fc = nn.Linear(32, 10) # 4 * 4 is the size of the feature map\n",
    "        \n",
    "    def forward(self, x):\n",
    "        x = self.pool(F.relu(self.conv1(x))) # apply convolutional layer, ReLU activation and max pooling\n",
    "        x = self.pool(F.relu(self.conv2(x)))\n",
    "        x = self.pool(F.relu(self.conv3(x)))\n",
    "        x = self.pool(F.relu(self.conv4(x)))\n",
    "        x = x.view(-1, 32) # flatten feature map to a 1D tensor\n",
    "        x = self.fc(x) # apply fully connected layer\n",
    "        return F.log_softmax(x, dim=1)\n"
   ]
  },
  {
   "attachments": {},
   "cell_type": "markdown",
   "metadata": {},
   "source": [
    "### Define Train and Evaluate Functions"
   ]
  },
  {
   "cell_type": "code",
   "execution_count": 9,
   "metadata": {},
   "outputs": [],
   "source": [
    "def train(model, train_loader, criterion, optimizer, device):\n",
    "    model.train()\n",
    "    running_loss = 0\n",
    "    correct = 0\n",
    "    total = 0\n",
    "    for batch_idx, (inputs, targets) in enumerate(train_loader):\n",
    "        inputs, targets = inputs.to(device), targets.to(device)\n",
    "        optimizer.zero_grad()\n",
    "        outputs = model(inputs)\n",
    "        loss = criterion(outputs, targets)\n",
    "        loss.backward()\n",
    "        optimizer.step()\n",
    "        running_loss += loss.item()\n",
    "        _, predicted = outputs.max(1)\n",
    "        total += targets.size(0)\n",
    "        correct += predicted.eq(targets).sum().item()\n",
    "    return running_loss / len(train_loader), 100. * correct / total\n",
    "\n",
    "def evaluate(model, validation_loader, criterion, device):\n",
    "    model.eval()\n",
    "    running_loss = 0\n",
    "    correct = 0\n",
    "    total = 0\n",
    "    with torch.no_grad():\n",
    "        for inputs, targets in validation_loader:\n",
    "            inputs, targets = inputs.to(device), targets.to(device)\n",
    "            outputs = model(inputs)\n",
    "            loss = criterion(outputs, targets)\n",
    "            running_loss += loss.item()\n",
    "            _, predicted = outputs.max(1)\n",
    "            total += targets.size(0)\n",
    "            correct += predicted.eq(targets).sum().item()\n",
    "    return running_loss / len(validation_loader), 100. * correct / total\n",
    "\n"
   ]
  },
  {
   "attachments": {},
   "cell_type": "markdown",
   "metadata": {},
   "source": [
    "### Load MNIST Data"
   ]
  },
  {
   "cell_type": "code",
   "execution_count": 10,
   "metadata": {},
   "outputs": [
    {
     "name": "stdout",
     "output_type": "stream",
     "text": [
      "device:  mps\n"
     ]
    },
    {
     "data": {
      "text/plain": [
       "SimpleCNN(\n",
       "  (conv1): Conv2d(1, 32, kernel_size=(3, 3), stride=(1, 1), padding=(1, 1))\n",
       "  (conv2): Conv2d(32, 32, kernel_size=(3, 3), stride=(1, 1), padding=(1, 1))\n",
       "  (conv3): Conv2d(32, 32, kernel_size=(3, 3), stride=(1, 1), padding=(1, 1))\n",
       "  (conv4): Conv2d(32, 32, kernel_size=(3, 3), stride=(1, 1), padding=(1, 1))\n",
       "  (pool): MaxPool2d(kernel_size=2, stride=2, padding=0, dilation=1, ceil_mode=False)\n",
       "  (fc): Linear(in_features=32, out_features=10, bias=True)\n",
       ")"
      ]
     },
     "execution_count": 10,
     "metadata": {},
     "output_type": "execute_result"
    }
   ],
   "source": [
    "device = torch.device(\"cuda\" if torch.cuda.is_available() else \"mps\" if torch.backends.mps.is_available() else \"cpu\")\n",
    "print(\"device: \",device)\n",
    "\n",
    "transform = transforms.Compose([\n",
    "    transforms.ToTensor(),\n",
    "    transforms.Normalize((0.1307,), (0.3081,))\n",
    "])\n",
    "\n",
    "train_dataset = datasets.MNIST(root='./data', train=True, download=True, transform=transform)\n",
    "train_loader = DataLoader(train_dataset, batch_size=64, shuffle=True)\n",
    "\n",
    "validation_dataset = datasets.MNIST(root='./data', train=False, download=True, transform=transform)\n",
    "validation_loader = DataLoader(validation_dataset, batch_size=64, shuffle=False)\n",
    "\n",
    "model = SimpleCNN()\n",
    "criterion = nn.CrossEntropyLoss()\n",
    "optimizer = optim.Adam(model.parameters(), lr=0.001)\n",
    "model.to(device)\n"
   ]
  },
  {
   "attachments": {},
   "cell_type": "markdown",
   "metadata": {},
   "source": [
    "# Train and Test Simple CNN"
   ]
  },
  {
   "cell_type": "code",
   "execution_count": 11,
   "metadata": {},
   "outputs": [
    {
     "name": "stdout",
     "output_type": "stream",
     "text": [
      "Loading pretrained weights...\n"
     ]
    }
   ],
   "source": [
    "num_epochs = 10\n",
    "if os.path.exists('pretrained_model.pt'):\n",
    "    print(\"Loading pretrained weights...\")\n",
    "    model.load_state_dict(torch.load('pretrained_model.pt'))\n",
    "else:\n",
    "    # Train the model if no saved weights exist\n",
    "    print(\"Training model...\")\n",
    "    num_epochs = 10\n",
    "    for epoch in range(num_epochs):\n",
    "        train_loss, train_acc = train(model, train_loader, criterion, optimizer, device)\n",
    "        validation_loss, validation_acc = evaluate(model, validation_loader, criterion, device)\n",
    "        print(f\"Epoch {epoch+1}/{num_epochs} - Train Loss: {train_loss:.4f}, Train Accuracy: {train_acc:.2f}%, Validation Loss: {validation_loss:.4f}, Validation Accuracy: {validation_acc:.2f}%\")\n",
    "    \n",
    "    # Save the trained weights\n",
    "    torch.save(model.state_dict(), 'pretrained_model.pt')"
   ]
  },
  {
   "attachments": {},
   "cell_type": "markdown",
   "metadata": {},
   "source": [
    "# Demonstrate Translation Equivariance\n",
    "\n",
    "We can demonstrate the property of translation equivariance by taking a test image of a digit and shifting it by a few pixels in any direction. If the network is translation equivariant, then it should still classify the shifted image the same as the original classification"
   ]
  },
  {
   "cell_type": "code",
   "execution_count": 12,
   "metadata": {},
   "outputs": [
    {
     "name": "stdout",
     "output_type": "stream",
     "text": [
      "Prediction for original test image: 7\n",
      "Prediction for shifted test image: 7\n"
     ]
    },
    {
     "data": {
      "image/png": "[encoded data removed]",
      "text/plain": [
       "<Figure size 640x480 with 2 Axes>"
      ]
     },
     "metadata": {},
     "output_type": "display_data"
    }
   ],
   "source": [
    "\n",
    "# Load a test image from the validation dataset\n",
    "test_image = next(iter(validation_dataset))[0][0]\n",
    "\n",
    "# Display the original test image\n",
    "plt.subplot(1, 2, 1)\n",
    "plt.imshow(test_image.squeeze(), cmap='viridis')\n",
    "plt.title(\"Original test image\")\n",
    "plt.axis('off')\n",
    "\n",
    "# Make a prediction for the original test image\n",
    "with torch.no_grad():\n",
    "    model.eval()\n",
    "    test_image = test_image.unsqueeze(0).to(device)\n",
    "    output = model(test_image)\n",
    "    predicted_label = output.argmax(dim=1).item()\n",
    "    print(f\"Prediction for original test image: {predicted_label}\")\n",
    "\n",
    "# Shift the test image by a few pixels in the x and y directions\n",
    "shifted_image = test_image.cpu().roll((-3, 5), dims=(1, 2))\n",
    "\n",
    "# Display the shifted test image\n",
    "plt.subplot(1, 2, 2)\n",
    "plt.imshow(shifted_image.squeeze(), cmap='viridis')\n",
    "plt.title(\"Shifted test image\")\n",
    "plt.axis('off')\n",
    "\n",
    "# Make a prediction for the shifted test image\n",
    "with torch.no_grad():\n",
    "    model.eval()\n",
    "    shifted_image = shifted_image.unsqueeze(0).to(device)\n",
    "    output = model(shifted_image)\n",
    "    predicted_label = output.argmax(dim=1).item()\n",
    "    print(f\"Prediction for shifted test image: {predicted_label}\")\n",
    "\n",
    "# Show the plot with both images\n",
    "plt.show()\n"
   ]
  },
  {
   "attachments": {},
   "cell_type": "markdown",
   "metadata": {},
   "source": [
    "<p> Does not work 100% perfect accross all translations <span style=\"font-size: 50px;\">&#x1F921;</span> but I'd say the performance is satisfactory <span style=\"font-size: 50px;\">&#x1F642;</span> </p>\n"
   ]
  },
  {
   "attachments": {},
   "cell_type": "markdown",
   "metadata": {},
   "source": [
    "# Test Rotational Equivariance"
   ]
  },
  {
   "cell_type": "code",
   "execution_count": 13,
   "metadata": {},
   "outputs": [
    {
     "name": "stdout",
     "output_type": "stream",
     "text": [
      "Prediction for original test image: 1\n",
      "Prediction for rotated test image: 7\n"
     ]
    },
    {
     "data": {
      "image/png": "[encoded data removed]",
      "text/plain": [
       "<Figure size 640x480 with 2 Axes>"
      ]
     },
     "metadata": {},
     "output_type": "display_data"
    }
   ],
   "source": [
    "# Load a test image from the validation dataset\n",
    "test_image = validation_dataset[5][0]\n",
    "\n",
    "# Remove the extra dimension\n",
    "test_image = test_image.squeeze()\n",
    "\n",
    "# Display the original test image\n",
    "plt.subplot(1, 2, 1)\n",
    "plt.imshow(test_image, cmap='viridis')\n",
    "plt.title(\"Original test image\")\n",
    "plt.axis('off')\n",
    "\n",
    "# Make a prediction for the original test image\n",
    "with torch.no_grad():\n",
    "    model.eval()\n",
    "    test_image = test_image.unsqueeze(0).unsqueeze(0).to(device)\n",
    "    output = model(test_image)\n",
    "    predicted_label = output.argmax(dim=1).item()\n",
    "    print(f\"Prediction for original test image: {predicted_label}\")\n",
    "\n",
    "# Rotate the test image by 30 degrees\n",
    "rotated_image = transforms.functional.rotate(test_image.cpu(), 90)\n",
    "\n",
    "# Remove the extra dimension\n",
    "rotated_image = rotated_image.squeeze()\n",
    "\n",
    "# Display the rotated test image\n",
    "plt.subplot(1, 2, 2)\n",
    "plt.imshow(rotated_image, cmap='viridis')\n",
    "plt.title(\"Rotated test image\")\n",
    "plt.axis('off')\n",
    "\n",
    "# Make a prediction for the rotated test image\n",
    "with torch.no_grad():\n",
    "    model.eval()\n",
    "    rotated_image = rotated_image.unsqueeze(0).unsqueeze(0).to(device)\n",
    "    output = model(rotated_image)\n",
    "    predicted_label = output.argmax(dim=1).item()\n",
    "    print(f\"Prediction for rotated test image: {predicted_label}\")\n",
    "\n",
    "# Show the plot with both images\n",
    "plt.show()\n"
   ]
  },
  {
   "attachments": {},
   "cell_type": "markdown",
   "metadata": {},
   "source": [
    "# Group Equivariant CNN (GCNN)\n",
    "\n",
    "GCNNs are a type of neural network that enforce equivariance to symmetry groups, meaning that their activations transform in a predictable way under transformations of the input. To achieve this equivariance, GCNNs use group-equivariant convolutional layers and other group-equivariant operations, which enforce constraints on how the activations of the network transform under the symmetry group. In practice, G-CNNs can be designed to be equivariant to a wide range of symmetry groups, each with their own set of equivariance constraints. In this section, we will dive deeper into how GCNNs work, specifically for the cyclic group."
   ]
  },
  {
   "attachments": {},
   "cell_type": "markdown",
   "metadata": {},
   "source": [
    "The ConvZ2P4 class defines a custom convolutional layer for group-equivariant CNNs, specifically designed for rotations in multiples of 90 degrees. It  takes an input tensor with Z2 symmetry (i.e., translation symmetry) and produces an output tensor with P4 symmetry (i.e., rotational and translation symmetries). This is achieved by rotating the weight tensor in multiples of 90 degrees and applying the convolution operation with each rotated weight tensor. The output feature maps obtained from each convolution are then combined along the channel dimension\n",
    "\n",
    "Because this process essentially \"lifts\" the input from Z2 to P4 symmetry, the term \"lifting convolution\" is often used to describe this layer"
   ]
  },
  {
   "cell_type": "code",
   "execution_count": 18,
   "metadata": {},
   "outputs": [],
   "source": [
    "\n",
    "class ConvZ2P4(nn.Module):\n",
    "    def __init__(self, in_channels, out_channels, kernel_size,\n",
    "                 bias=True, stride=1, padding=1):\n",
    "        super().__init__()\n",
    "\n",
    "        # Initialize weight tensor and apply Kaiming initialization\n",
    "        w = torch.empty(out_channels, in_channels, kernel_size, kernel_size)\n",
    "        self.weight = nn.Parameter(w)\n",
    "        nn.init.kaiming_uniform_(self.weight, a=(5 ** 0.5))\n",
    "\n",
    "        # Initialize bias tensor if bias is True\n",
    "        if bias:\n",
    "            self.bias = nn.Parameter(torch.zeros(out_channels))\n",
    "        else:\n",
    "            self.bias = None\n",
    "\n",
    "        # Save stride and padding values\n",
    "        self.stride = stride\n",
    "        self.padding = padding\n",
    "\n",
    "    # Helper function to perform the 4 rotations of the weight tensor\n",
    "    def _rotated(self, w):\n",
    "        ws = [torch.rot90(w, k, (2, 3)) for k in range(4)]\n",
    "        return torch.cat(ws, 1).view(-1, w.size(1), w.size(2), w.size(3))\n",
    "\n",
    "    # Forward pass function\n",
    "    def forward(self, x):\n",
    "        # Rotate the weight tensor and apply the convolution to each rotation\n",
    "        w = self._rotated(self.weight)\n",
    "        y = F.conv2d(x, w, stride=self.stride, padding=self.padding)\n",
    "\n",
    "        # Reshape the output tensor to restore P4 symmetry\n",
    "        y = y.view(y.size(0), -1, 4, y.size(2), y.size(3))\n",
    "\n",
    "        # Add bias tensor if bias is not None\n",
    "        if self.bias is not None:\n",
    "            y = y + self.bias.view(1, -1, 1, 1, 1)\n",
    "\n",
    "        return y\n",
    "\n"
   ]
  },
  {
   "attachments": {},
   "cell_type": "markdown",
   "metadata": {},
   "source": [
    "The ConvP4 layer is a group-equivariant convolutional layer for the P4 symmetry group.  The weight tensor is first rotated in four different ways (0, 90, 180, and 270 degrees), and these rotated versions are concatenated along the channel dimension before the convolution takes place. this works is because the input tensor is reshaped to have 4 times the number of input channels, which effectively incorporates the information from all four rotations. When the convolution operation is applied to this reshaped tensor using the rotated weight tensor, the output tensor implicitly contains the results of convolutions applied to all four rotated versions of the input tensor."
   ]
  },
  {
   "cell_type": "code",
   "execution_count": 19,
   "metadata": {},
   "outputs": [],
   "source": [
    "\n",
    "class ConvP4(torch.nn.Module):\n",
    "    def __init__(self, in_channels, out_channels, kernel_size,\n",
    "                 bias=True, stride=1, padding=1):\n",
    "        super().__init__()\n",
    "        \n",
    "        # Initialize weight tensor and apply Kaiming initialization\n",
    "        w = torch.empty(out_channels, in_channels, 4, kernel_size, kernel_size)\n",
    "        self.weight = torch.nn.Parameter(w)\n",
    "        torch.nn.init.kaiming_uniform_(self.weight, a=(5 ** 0.5))\n",
    "        \n",
    "        # Initialize bias tensor if bias is True\n",
    "        if bias:\n",
    "            self.bias = torch.nn.Parameter(torch.zeros(out_channels))\n",
    "        else:\n",
    "            self.bias = None\n",
    "        \n",
    "        # Save stride and padding values\n",
    "        self.stride = stride\n",
    "        self.padding = padding\n",
    "\n",
    "    # Helper function to perform the 4 rotations of the weight tensor\n",
    "    def _rotated(self, w):\n",
    "        # Apply 4 rotations to the weight tensor\n",
    "        ws = [_grot90(w, k).view(w.size(0), -1, w.size(3), w.size(4)) for k in range(4)]\n",
    "        # Concatenate the rotated tensors along the channel dimension\n",
    "        return torch.cat(ws, 1).view(4 * w.size(0), 4 * w.size(1), w.size(3), w.size(4))\n",
    "\n",
    "    def forward(self, x):\n",
    "        # Reshape the input tensor to restore P4 symmetry\n",
    "        x = x.view(x.size(0), -1, x.size(3), x.size(4))\n",
    "        # Rotate the weight tensor and apply the convolution to each rotation\n",
    "        w = self._rotated(self.weight)\n",
    "        y = F.conv2d(x, w, stride=self.stride, padding=self.padding)\n",
    "        # Reshape the output tensor to restore P4 symmetry\n",
    "        y = y.view(y.size(0), -1, 4, y.size(2), y.size(3))\n",
    "        # Add bias tensor if bias is not None\n",
    "        if self.bias is not None:\n",
    "            y = y + self.bias.view(1, -1, 1, 1, 1)\n",
    "        return y\n",
    "\n"
   ]
  },
  {
   "attachments": {},
   "cell_type": "markdown",
   "metadata": {},
   "source": [
    "MaxRotationPoolP4: This layer computes the maximum value along the rotation axis (axis=2) of a tensor with P4 symmetry. It can be used to combine information from all four rotations after applying a group-equivariant convolution.\n",
    "\n",
    "MaxSpatialPoolP4: This layer applies max pooling in the spatial dimensions (height and width) of a tensor with P4 symmetry. It first reshapes the input tensor, applies the MaxPool2d layer, and then reshapes the output tensor back to restore the P4 symmetry.\n",
    "\n",
    "AvgRootPoolP4: This layer computes the average value along the rotation axis (axis=2) of a tensor with P4 symmetry. Similar to MaxRotationPoolP4, it can be used to combine information from all four rotations after a group-equivariant convolution.\n",
    "\n",
    "_grot90: This is a helper function that rotates the input tensor by 90 degrees k times along the height and width dimensions while also rolling the tensor along the rotation axis (axis=2) by k steps. This function is used in the ConvP4 layer to prepare rotated versions of the weight tensor for the convolution operation."
   ]
  },
  {
   "cell_type": "code",
   "execution_count": 20,
   "metadata": {},
   "outputs": [],
   "source": [
    "\n",
    "\n",
    "class MaxRotationPoolP4(torch.nn.Module):\n",
    "    def forward(self, x):\n",
    "        # Compute the maximum value along the rotation axis (axis=2) of a tensor with P4 symmetry\n",
    "        return x.max(2).values\n",
    "\n",
    "\n",
    "class MaxSpatialPoolP4(torch.nn.Module):\n",
    "    def __init__(self, kernel_size, stride=None, padding=0):\n",
    "        super().__init__()\n",
    "        # Create a MaxPool2d layer with the given kernel size, stride, and padding\n",
    "        self.inner = torch.nn.MaxPool2d(kernel_size, stride, padding)\n",
    "    \n",
    "    def forward(self, x):\n",
    "        # Reshape the input tensor to (batch_size, channels * 4, height, width)\n",
    "        y = x.view(x.size(0), -1, x.size(3), x.size(4))\n",
    "        # Apply MaxPool2d to the reshaped tensor\n",
    "        y = self.inner(y)\n",
    "        # Reshape the output tensor to (batch_size, channels, 4, out_height, out_width)\n",
    "        y = y.view(x.size(0), -1, 4, y.size(2), y.size(3))\n",
    "        return y\n",
    "\n",
    "\n",
    "class AvgRootPoolP4(torch.nn.Module):\n",
    "    def forward(self, x):\n",
    "        # Compute the average value along the rotation axis (axis=2) of a tensor with P4 symmetry\n",
    "        return x.mean(2)\n",
    "\n",
    "def _grot90(x, k):\n",
    "    # Roll the input tensor along the rotation axis (axis=2) by k steps\n",
    "    x_cpu = x.cpu()\n",
    "    x_rolled = torch.roll(x_cpu, shifts=k, dims=2)\n",
    "    # Rotate the rolled tensor by 90 degrees along the height and width dimensions\n",
    "    x_rot90 = torch.rot90(x_rolled, k, (3, 4))\n",
    "    return x_rot90.to(x.device)\n",
    "\n"
   ]
  },
  {
   "attachments": {},
   "cell_type": "markdown",
   "metadata": {},
   "source": [
    "Finally, GCNN starts with a ConvZ2P4 layer to lift the input image into the P4 symmetry space, followed by multiple ConvP4 layers to maintain the rotational symmetry throughout the network. The architecture also includes max spatial pooling layers for dimensionality reduction, and a final max rotation pooling layer to collapse the symmetry space. Lastly, a fully connected layer is used to produce the output logits, which are then transformed into probabilities using a log-softmax function. GCNN essentially mirrors SimpleCNN in look with the exception of reducing the hidden channgles to maintain approximately equivalent trainable parameters"
   ]
  },
  {
   "cell_type": "code",
   "execution_count": 21,
   "metadata": {},
   "outputs": [],
   "source": [
    "\n",
    "\n",
    "class GCNN(torch.nn.Module):\n",
    "    def __init__(self):\n",
    "        super(GCNN, self).__init__()\n",
    "\n",
    "        self.conv1 = ConvZ2P4(1, 16, 5)\n",
    "        self.conv2 = ConvP4(16, 16, 3)\n",
    "        self.conv3 = ConvP4(16, 16, 3)\n",
    "        self.conv4 = ConvP4(16, 16, 3)\n",
    "        self.pool1 = MaxSpatialPoolP4(2)\n",
    "        self.pool2 = MaxSpatialPoolP4(2)\n",
    "        self.pool3 = MaxSpatialPoolP4(2)\n",
    "        self.pool4 = MaxRotationPoolP4()\n",
    "        self.pool5 = nn.AdaptiveAvgPool2d(1)\n",
    "        self.fc = nn.Linear(16, 10)\n",
    "\n",
    "    def forward(self, x):\n",
    "        x = F.relu(self.pool1(self.conv1(x)))\n",
    "        x = F.relu(self.pool2(self.conv2(x)))\n",
    "        x = F.relu(self.pool3(self.conv3(x)))\n",
    "        x = F.relu(self.pool4(self.conv4(x)))\n",
    "        x = self.pool5(x)\n",
    "        x = x.squeeze(-1).squeeze(-1)\n",
    "        x = self.fc(x)\n",
    "        output = F.log_softmax(x, dim=1)\n",
    "        return output\n",
    "\n"
   ]
  },
  {
   "attachments": {},
   "cell_type": "markdown",
   "metadata": {},
   "source": [
    "# Compare G-CNN Performance with Simple CNN\n",
    "Here we load on original MNIST set for training and randomly rotate test set from 0-360 degrees"
   ]
  },
  {
   "cell_type": "code",
   "execution_count": 22,
   "metadata": {},
   "outputs": [
    {
     "data": {
      "image/png": "[encoded data removed]",
      "text/plain": [
       "<Figure size 800x800 with 1 Axes>"
      ]
     },
     "metadata": {},
     "output_type": "display_data"
    }
   ],
   "source": [
    "\n",
    "\n",
    "torch.manual_seed(42)\n",
    "\n",
    "train_transform = transforms.Compose([\n",
    "    transforms.ToTensor(),\n",
    "    transforms.Normalize((0.1307,), (0.3081,))\n",
    "])\n",
    "\n",
    "\n",
    "transform = transforms.Compose([\n",
    "    transforms.ToTensor(),\n",
    "    transforms.RandomRotation([0, 360],transforms.InterpolationMode.BILINEAR,fill=0),\n",
    "    transforms.Normalize((0.1307,), (0.3081,))\n",
    "])\n",
    "\n",
    "train_dataset = datasets.MNIST(root='./data', train=True, download=True, transform=train_transform)\n",
    "train_loader = DataLoader(train_dataset, batch_size=64, shuffle=True)\n",
    "\n",
    "validation_dataset = datasets.MNIST(root='./data', train=False, download=True, transform=transform)\n",
    "validation_loader = DataLoader(validation_dataset, batch_size=64, shuffle=False)\n",
    "\n",
    "NUM_IMAGES = 4\n",
    "images = [train_dataset[idx][0] for idx in range(NUM_IMAGES)]\n",
    "orig_images = [Image.fromarray(train_dataset.data[idx].numpy()) for idx in range(NUM_IMAGES)]\n",
    "orig_images = [transform(img) for img in orig_images]\n",
    "\n",
    "img_grid = torchvision.utils.make_grid(torch.stack(images + orig_images, dim=0), nrow=4, normalize=True, pad_value=0.5)\n",
    "img_grid = img_grid.permute(1, 2, 0)\n",
    "\n",
    "plt.figure(figsize=(8,8))\n",
    "plt.title(\"Images sampled from the MNIST train set, augmented with test transforms.\")\n",
    "plt.imshow(img_grid,cmap='viridis')\n",
    "plt.axis('off')\n",
    "plt.show()\n",
    "plt.close()\n"
   ]
  },
  {
   "attachments": {},
   "cell_type": "markdown",
   "metadata": {},
   "source": [
    "Test GCNN. Note: we still make use of same training and evaluation functions"
   ]
  },
  {
   "cell_type": "code",
   "execution_count": 23,
   "metadata": {},
   "outputs": [
    {
     "name": "stdout",
     "output_type": "stream",
     "text": [
      "Loading pretrained weights...\n"
     ]
    }
   ],
   "source": [
    "model = GCNN()\n",
    "criterion = nn.CrossEntropyLoss()\n",
    "optimizer = optim.Adam(model.parameters(), lr=0.001)\n",
    "model.to(device)\n",
    "num_epochs = 3\n",
    "\n",
    "if os.path.exists('gcnn_model.pt'):\n",
    "    print(\"Loading pretrained weights...\")\n",
    "    model.load_state_dict(torch.load('gcnn_model.pt'))\n",
    "    validation_loss, validation_acc = evaluate(model, validation_loader, criterion, device)\n",
    "else:\n",
    "    # Train the model if no saved weights exist\n",
    "    print(\"Training model...\")\n",
    "    for epoch in range(num_epochs):\n",
    "        train_loss, train_acc = train(model, train_loader, criterion, optimizer, device)\n",
    "        validation_loss, validation_acc = evaluate(model, validation_loader, criterion, device)\n",
    "        print(f\"Epoch {epoch+1}/{num_epochs} - Train Loss: {train_loss:.4f}, Train Accuracy: {train_acc:.2f}%, Validation Loss: {validation_loss:.4f}, Validation Accuracy: {validation_acc:.2f}%\")\n",
    "    \n",
    "    # Save the trained weights\n",
    "    torch.save(model.state_dict(), 'gcnn_model.pt')\n",
    "    \n",
    "gcnn_results = validation_acc\n",
    "gcnn_model = model\n",
    "gcnn_params = sum(p.numel() for p in gcnn_model.parameters() if p.requires_grad)"
   ]
  },
  {
   "attachments": {},
   "cell_type": "markdown",
   "metadata": {},
   "source": [
    "Now test SimpleCNN"
   ]
  },
  {
   "cell_type": "code",
   "execution_count": 24,
   "metadata": {},
   "outputs": [
    {
     "name": "stdout",
     "output_type": "stream",
     "text": [
      "Loading pretrained weights...\n"
     ]
    }
   ],
   "source": [
    "model = SimpleCNN()\n",
    "criterion = nn.CrossEntropyLoss()\n",
    "optimizer = optim.Adam(model.parameters(), lr=0.001)\n",
    "model.to(device)\n",
    "if os.path.exists('cnn_model.pt'):\n",
    "    print(\"Loading pretrained weights...\")\n",
    "    model.load_state_dict(torch.load('cnn_model.pt'))\n",
    "    validation_loss, validation_acc = evaluate(model, validation_loader, criterion, device)\n",
    "else:\n",
    "    # Train the model if no saved weights exist\n",
    "    print(\"Training model...\")\n",
    "    for epoch in range(num_epochs):\n",
    "        train_loss, train_acc = train(model, train_loader, criterion, optimizer, device)\n",
    "        validation_loss, validation_acc = evaluate(model, validation_loader, criterion, device)\n",
    "        print(f\"Epoch {epoch+1}/{num_epochs} - Train Loss: {train_loss:.4f}, Train Accuracy: {train_acc:.2f}%, Validation Loss: {validation_loss:.4f}, Validation Accuracy: {validation_acc:.2f}%\")\n",
    "    \n",
    "    # Save the trained weights\n",
    "    torch.save(model.state_dict(), 'cnn_model.pt')\n",
    "cnn_results = validation_acc\n",
    "cnn_model = model\n",
    "cnn_params = sum(p.numel() for p in cnn_model.parameters() if p.requires_grad)"
   ]
  },
  {
   "cell_type": "code",
   "execution_count": 25,
   "metadata": {},
   "outputs": [
    {
     "name": "stdout",
     "output_type": "stream",
     "text": [
      "Model\tAccuracy\tTrainable Params\n",
      "GCNN\t71.23\t28282\n",
      "CNN\t41.31\t28394\n"
     ]
    }
   ],
   "source": [
    "models = {\n",
    "    \"GCNN\": {\n",
    "        \"accuracy\": gcnn_results,\n",
    "        \"trainable_params\": gcnn_params,\n",
    "    },\n",
    "    \"CNN\": {\n",
    "        \"accuracy\": cnn_results,\n",
    "        \"trainable_params\": cnn_params,\n",
    "    }\n",
    "}\n",
    "\n",
    "# Print the table\n",
    "print(\"Model\\tAccuracy\\tTrainable Params\")\n",
    "for model, values in models.items():\n",
    "    print(f\"{model}\\t{values['accuracy']}\\t{values['trainable_params']}\")"
   ]
  },
  {
   "attachments": {},
   "cell_type": "markdown",
   "metadata": {},
   "source": [
    "SimpleCNN <span style=\"font-size: 50px;\">&#x1F62D;</span>"
   ]
  },
  {
   "attachments": {},
   "cell_type": "markdown",
   "metadata": {},
   "source": [
    "GCNN is not very good either. This is because we used all rotations from 0-360 degrees, but we designed our network to be equivariant to 90 degree rotations. We can see if we get better results by augmenting our test set to respect the symmetries we have assumed. "
   ]
  },
  {
   "cell_type": "code",
   "execution_count": 26,
   "metadata": {},
   "outputs": [
    {
     "name": "stderr",
     "output_type": "stream",
     "text": [
      "/var/folders/18/3kclsxgj3jj7mvx5j6cf7qtr0000gn/T/ipykernel_41479/823595054.py:9: DeprecationWarning: BILINEAR is deprecated and will be removed in Pillow 10 (2023-07-01). Use Resampling.BILINEAR instead.\n",
      "  def __init__(self, degrees, resample=Image.BILINEAR, expand=False, center=None):\n"
     ]
    }
   ],
   "source": [
    "torch.manual_seed(42)\n",
    "\n",
    "train_transform = transforms.Compose([\n",
    "    transforms.ToTensor(),\n",
    "    transforms.Normalize((0.1307,), (0.3081,))\n",
    "])\n",
    "\n",
    "class RandomRotation90(transforms.RandomRotation):\n",
    "    def __init__(self, degrees, resample=Image.BILINEAR, expand=False, center=None):\n",
    "        super(RandomRotation90, self).__init__(degrees, resample, expand, center)\n",
    "\n",
    "    def get_params(self, img):\n",
    "        angle = math.floor(random.random() * 4) * 90\n",
    "        return angle\n",
    "\n",
    "transform = transforms.Compose([\n",
    "                transforms.ToTensor(),\n",
    "                RandomRotation90((0, 360), resample=transforms.InterpolationMode.BILINEAR),\n",
    "                transforms.Normalize((0.1307,), (0.3081,))\n",
    "            ])\n",
    "\n",
    "train_dataset = datasets.MNIST(root='./data', train=True, download=True, transform=train_transform)\n",
    "train_loader = DataLoader(train_dataset, batch_size=64, shuffle=True)\n",
    "\n",
    "validation_dataset = datasets.MNIST(root='./data', train=False, download=True, transform=transform)\n",
    "validation_loader = DataLoader(validation_dataset, batch_size=64, shuffle=False)"
   ]
  },
  {
   "cell_type": "code",
   "execution_count": 27,
   "metadata": {},
   "outputs": [
    {
     "name": "stdout",
     "output_type": "stream",
     "text": [
      "Loading pretrained weights...\n"
     ]
    }
   ],
   "source": [
    "model = GCNN()\n",
    "criterion = nn.CrossEntropyLoss()\n",
    "optimizer = optim.Adam(model.parameters(), lr=0.001)\n",
    "model.to(device)\n",
    "num_epochs = 3\n",
    "\n",
    "if os.path.exists('gcnn_model2.pt'):\n",
    "    print(\"Loading pretrained weights...\")\n",
    "    model.load_state_dict(torch.load('gcnn_model2.pt'))\n",
    "    validation_loss, validation_acc = evaluate(model, validation_loader, criterion, device)\n",
    "else:\n",
    "    # Train the model if no saved weights exist\n",
    "    print(\"Training model...\")\n",
    "    for epoch in range(num_epochs):\n",
    "        train_loss, train_acc = train(model, train_loader, criterion, optimizer, device)\n",
    "        validation_loss, validation_acc = evaluate(model, validation_loader, criterion, device)\n",
    "        print(f\"Epoch {epoch+1}/{num_epochs} - Train Loss: {train_loss:.4f}, Train Accuracy: {train_acc:.2f}%, Validation Loss: {validation_loss:.4f}, Validation Accuracy: {validation_acc:.2f}%\")\n",
    "    \n",
    "    # Save the trained weights\n",
    "    torch.save(model.state_dict(), 'gcnn_model2.pt')\n",
    "    \n",
    "gcnn_results2 = validation_acc\n",
    "gcnn_model2 = model\n",
    "gcnn_params2 = sum(p.numel() for p in gcnn_model.parameters() if p.requires_grad)"
   ]
  },
  {
   "cell_type": "code",
   "execution_count": 28,
   "metadata": {},
   "outputs": [
    {
     "name": "stdout",
     "output_type": "stream",
     "text": [
      "Model\tAccuracy\tTrainable Params\n",
      "GCNN2\t87.08\t28282\n",
      "GCNN\t71.23\t28282\n",
      "CNN\t41.31\t28394\n"
     ]
    }
   ],
   "source": [
    "models = {\n",
    "    \"GCNN2\": {\n",
    "        \"accuracy\": gcnn_results2,\n",
    "        \"trainable_params\": gcnn_params2,\n",
    "    },\n",
    "    \"GCNN\": {\n",
    "        \"accuracy\": gcnn_results,\n",
    "        \"trainable_params\": gcnn_params,\n",
    "    },\n",
    "    \"CNN\": {\n",
    "        \"accuracy\": cnn_results,\n",
    "        \"trainable_params\": cnn_params,\n",
    "    }\n",
    "}\n",
    "\n",
    "# Print the table\n",
    "print(\"Model\\tAccuracy\\tTrainable Params\")\n",
    "for model, values in models.items():\n",
    "    print(f\"{model}\\t{values['accuracy']}\\t{values['trainable_params']}\")"
   ]
  },
  {
   "cell_type": "code",
   "execution_count": null,
   "metadata": {},
   "outputs": [],
   "source": []
  }
 ],
 "metadata": {
  "kernelspec": {
   "display_name": "physicsml",
   "language": "python",
   "name": "python3"
  },
  "language_info": {
   "codemirror_mode": {
    "name": "ipython",
    "version": 3
   },
   "file_extension": ".py",
   "mimetype": "text/x-python",
   "name": "python",
   "nbconvert_exporter": "python",
   "pygments_lexer": "ipython3",
   "version": "3.10.8"
  },
  "orig_nbformat": 4
 },
 "nbformat": 4,
 "nbformat_minor": 2
}
